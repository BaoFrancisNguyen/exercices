{
 "cells": [
  {
   "cell_type": "code",
   "execution_count": 1,
   "metadata": {},
   "outputs": [
    {
     "name": "stdout",
     "output_type": "stream",
     "text": [
      "je m'appelle Toto\n"
     ]
    }
   ],
   "source": [
    "print('je m\\'appelle Toto')"
   ]
  },
  {
   "cell_type": "code",
   "execution_count": 56,
   "metadata": {},
   "outputs": [
    {
     "name": "stdout",
     "output_type": "stream",
     "text": [
      "Attention entrez un nombre\n",
      "Attention entrez un nombre\n",
      "vous vous appelez francis, vous avez 40 ans.\n",
      "l'an prochain, vous aurez 41 ans\n"
     ]
    }
   ],
   "source": [
    "nom = input(\"Quelle est votre nom?: \")\n",
    "###age = input(\"Quel est votre âge? :\")###\n",
    "\n",
    "age = 0\n",
    "\n",
    "while age == 0:\n",
    "    age_str = input('quel est votre âge?: ')\n",
    "    try:\n",
    "        age = int(age_str)\n",
    "    \n",
    "    except ValueError:\n",
    "        print('Attention, entrez un nombre')\n",
    "\n",
    "#print('fin de la boucle')        \n",
    "\n",
    "\n",
    "print('vous vous appelez ' + nom + \", vous avez \" + str(age) + \" ans.\")\n",
    "print('l\\'an prochain, vous aurez ' + str(age + 1) + ' ans')\n",
    "\n",
    "\n"
   ]
  }
 ],
 "metadata": {
  "kernelspec": {
   "display_name": "Python 3",
   "language": "python",
   "name": "python3"
  },
  "language_info": {
   "codemirror_mode": {
    "name": "ipython",
    "version": 3
   },
   "file_extension": ".py",
   "mimetype": "text/x-python",
   "name": "python",
   "nbconvert_exporter": "python",
   "pygments_lexer": "ipython3",
   "version": "3.6.9"
  },
  "orig_nbformat": 4
 },
 "nbformat": 4,
 "nbformat_minor": 2
}
